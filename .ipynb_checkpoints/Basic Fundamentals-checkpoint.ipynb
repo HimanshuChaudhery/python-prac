{
 "cells": [
  {
   "cell_type": "markdown",
   "id": "0617999b-40f0-46df-984a-2fe64c574946",
   "metadata": {},
   "source": [
    "# Basic Fundamentals of Python"
   ]
  },
  {
   "cell_type": "code",
   "execution_count": 1,
   "id": "7d57406e-7109-4021-b099-005ee1cb20fd",
   "metadata": {},
   "outputs": [
    {
     "name": "stdout",
     "output_type": "stream",
     "text": [
      "Hello World\n"
     ]
    }
   ],
   "source": [
    "print(\"Hello World\")"
   ]
  },
  {
   "cell_type": "markdown",
   "id": "f0a39a7c-5da9-494b-ab9e-0fd74f72416a",
   "metadata": {},
   "source": [
    "## 1. Variables\n",
    "Variables are used for storing data. \n",
    "\n",
    "### Naming a Variable:\n",
    "Rules for naming Python Variables:\n",
    "- A variable name can start with a letter or the underscore character.\n",
    "- A vairable name connot start with a number.\n",
    "- A variable name can only contain alpha-numeric characters and underscores(A-Z, 0-9 and _).\n",
    "- Variable names are case-sensitive(age, Age and AGE are three different variables).\n",
    "- ``Inbuilt`` keywords should not be used as identifiers."
   ]
  },
  {
   "cell_type": "code",
   "execution_count": 3,
   "id": "fa58ecd4-52b3-45dd-b075-654c634b5ce6",
   "metadata": {},
   "outputs": [
    {
     "name": "stdout",
     "output_type": "stream",
     "text": [
      "The sum of two number is 11\n"
     ]
    }
   ],
   "source": [
    "a = 5\n",
    "b = 6\n",
    "sum=a+b\n",
    "print(f\"The sum of two number is {sum}\")"
   ]
  },
  {
   "cell_type": "code",
   "execution_count": 5,
   "id": "c71d2ef0-779f-4c62-8cfc-b364ee93ccf6",
   "metadata": {},
   "outputs": [
    {
     "name": "stdout",
     "output_type": "stream",
     "text": [
      "15\n"
     ]
    }
   ],
   "source": [
    "# Alphanumeric as variables  \n",
    "rahul_11 = 15\n",
    "print(rahul_11)"
   ]
  },
  {
   "cell_type": "code",
   "execution_count": 8,
   "id": "36427553-9fd1-4c0e-a917-625fe1de1585",
   "metadata": {},
   "outputs": [
    {
     "name": "stdout",
     "output_type": "stream",
     "text": [
      "\n",
      "Here is a list of the Python keywords.  Enter any keyword to get more help.\n",
      "\n",
      "False               class               from                or\n",
      "None                continue            global              pass\n",
      "True                def                 if                  raise\n",
      "and                 del                 import              return\n",
      "as                  elif                in                  try\n",
      "assert              else                is                  while\n",
      "async               except              lambda              with\n",
      "await               finally             nonlocal            yield\n",
      "break               for                 not                 \n",
      "\n"
     ]
    }
   ],
   "source": [
    "# We cannot used keywords(reserved words) as variables\n",
    "help(\"keywords\")"
   ]
  },
  {
   "cell_type": "markdown",
   "id": "8fe66943-784c-47eb-a45f-7202b7f7cfbc",
   "metadata": {},
   "source": [
    "## 2. Stack & Heap Memory\n",
    "In python variables stored in Stacked memory where variables's values or data are stored in Heap memory.\n",
    "\n",
    "![Variable memory representation](VariableMemory.png)"
   ]
  },
  {
   "cell_type": "markdown",
   "id": "584736c7-ba5a-4085-9044-bbed171c122e",
   "metadata": {},
   "source": [
    "## 3. Id Function\n",
    "Id function will return the memory address of the variable where value associated it is stored."
   ]
  },
  {
   "cell_type": "code",
   "execution_count": 9,
   "id": "cfb9cdd9-84d6-479f-8f5d-67b194a294e2",
   "metadata": {},
   "outputs": [],
   "source": [
    "x = 5"
   ]
  },
  {
   "cell_type": "code",
   "execution_count": 10,
   "id": "726f26be-354c-4801-9c11-fd76bf33cd82",
   "metadata": {},
   "outputs": [
    {
     "data": {
      "text/plain": [
       "140736999078456"
      ]
     },
     "execution_count": 10,
     "metadata": {},
     "output_type": "execute_result"
    }
   ],
   "source": [
    "id(5)"
   ]
  },
  {
   "cell_type": "code",
   "execution_count": 11,
   "id": "dffc7b37-40f1-4c5e-8e0b-4ef85fdcec01",
   "metadata": {},
   "outputs": [],
   "source": [
    "x = 45"
   ]
  },
  {
   "cell_type": "code",
   "execution_count": 12,
   "id": "e96b9d2f-6d4e-4a9d-8e48-b6737add0443",
   "metadata": {},
   "outputs": [
    {
     "name": "stdout",
     "output_type": "stream",
     "text": [
      "140736999079736\n"
     ]
    }
   ],
   "source": [
    "print(id(x))"
   ]
  },
  {
   "cell_type": "markdown",
   "id": "751024ea-c2aa-468c-9e50-5903bcf7e5eb",
   "metadata": {},
   "source": [
    "#### Why memory address of upper \"x\" is different from memory address of lower \"x\" \n",
    "Ans: Because every single time the value is stored, the ```memory address``` will be assign to the variable."
   ]
  },
  {
   "cell_type": "markdown",
   "id": "2ce163c5-20a1-49be-b48a-4361ce79d5ac",
   "metadata": {},
   "source": [
    "## 4. Comments\n",
    "Comments are used to describe the code or to explain the working of section of code."
   ]
  },
  {
   "cell_type": "code",
   "execution_count": 13,
   "id": "59de253f-c686-466e-b91c-610ed816629b",
   "metadata": {},
   "outputs": [],
   "source": [
    "# This is the example of Comments. "
   ]
  },
  {
   "cell_type": "markdown",
   "id": "5a08c9b3-a1c8-48c0-bddb-33f4f236ea93",
   "metadata": {},
   "source": [
    "## 5. Data Types in Python\n",
    "- Integers : Any number like 12, 5, -10 all are integers.\n",
    "- Floats : All Decimals number are Float numbers.\n",
    "- Booleans : True or False\n",
    "- Strings : Any words or sentence is called String like \"Car\", \"Hello World\".\n",
    "- NONE : It means 0 or NULL(nothing is there)."
   ]
  },
  {
   "cell_type": "code",
   "execution_count": 17,
   "id": "0d3a86ff-6550-48a0-9223-c9fc2b45bd6a",
   "metadata": {},
   "outputs": [
    {
     "name": "stdout",
     "output_type": "stream",
     "text": [
      "<class 'int'>\n",
      "The sum of numbers is 160\n"
     ]
    }
   ],
   "source": [
    "# Integers\n",
    "m = 10\n",
    "n = 80\n",
    "k = 70\n",
    "print(type(k)) # type() function is a inbuilt function to check datatype of a variable.\n",
    "print(f\"The sum of numbers is {m+n+k}\")"
   ]
  },
  {
   "cell_type": "code",
   "execution_count": 19,
   "id": "d898b592-6051-45b3-9cb4-a7ed8054e300",
   "metadata": {},
   "outputs": [
    {
     "name": "stdout",
     "output_type": "stream",
     "text": [
      "<class 'float'>\n",
      "The sum of two float number is 16.0\n"
     ]
    }
   ],
   "source": [
    "# float\n",
    "a1 = 7.5\n",
    "a2 = 8.5\n",
    "print(type(a1))\n",
    "print(f\"The sum of two float number is {a1+a2}\")"
   ]
  },
  {
   "cell_type": "code",
   "execution_count": 24,
   "id": "7e2f2710-5947-4498-8fdc-1d4a40019672",
   "metadata": {},
   "outputs": [
    {
     "name": "stdout",
     "output_type": "stream",
     "text": [
      "<class 'bool'>\n",
      "B1: True & B2: False\n"
     ]
    }
   ],
   "source": [
    "# Booleans\n",
    "b1 = True\n",
    "b2 = False\n",
    "print(type(b1))\n",
    "print(f\"B1: {b1} & B2: {b2}\")"
   ]
  },
  {
   "cell_type": "code",
   "execution_count": 29,
   "id": "e49aa7dd-3311-449e-a936-f824f356d352",
   "metadata": {},
   "outputs": [
    {
     "name": "stdout",
     "output_type": "stream",
     "text": [
      "<class 'str'>\n",
      "Ashish\n",
      "Aman\n",
      "If you have one life, one oppurtunity, thats the everything you ever wanted. Will you take it or let it lose? \n"
     ]
    }
   ],
   "source": [
    "# String values are generally defined inside 'a',\"a\" and \"\"\"a\"\"\"\n",
    "str1 = 'Ashish'\n",
    "str2 = 'Aman'\n",
    "str3 = \"\"\"If you have one life, one oppurtunity, thats the everything you ever wanted. Will you take it or let it lose? \"\"\"\n",
    "# str3 is a  example of Multiline String\n",
    "\n",
    "print(type(str3))\n",
    "print(str1)\n",
    "print(str2)\n",
    "print(str3)"
   ]
  },
  {
   "cell_type": "code",
   "execution_count": 30,
   "id": "3ea467a9-7b8a-4e76-b00b-3c6eb5a57702",
   "metadata": {},
   "outputs": [
    {
     "name": "stdout",
     "output_type": "stream",
     "text": [
      "<class 'NoneType'>\n",
      "None\n"
     ]
    }
   ],
   "source": [
    "# NULL or NONE\n",
    "n1 =  None\n",
    "print(type(n1))\n",
    "print(n1)"
   ]
  },
  {
   "cell_type": "markdown",
   "id": "1accecfd-7dce-42ad-bf97-4e81494b4281",
   "metadata": {},
   "source": [
    "## 6. Input Function in Python\n",
    "Input function in python is used to get input from the user, process it and give output according to the given input."
   ]
  },
  {
   "cell_type": "code",
   "execution_count": 35,
   "id": "e660d904-4c1a-4448-a5a4-259ac6d671bd",
   "metadata": {},
   "outputs": [
    {
     "name": "stdin",
     "output_type": "stream",
     "text": [
      "Enter your First name:  Seth\n",
      "Enter your Last name:  Rolance\n",
      "Enter the age:  25\n",
      "Enter your marks:  87.6\n"
     ]
    },
    {
     "name": "stdout",
     "output_type": "stream",
     "text": [
      "<class 'str'>\n",
      "Hello my name is Seth Rolance.\n",
      "I am 25 and i got 87.6\n"
     ]
    }
   ],
   "source": [
    "# EXAMPLE\n",
    "in1 = input(\"Enter your First name: \")\n",
    "in2 = input(\"Enter your Last name: \")\n",
    "age = input(\"Enter the age: \")\n",
    "marks = input(\"Enter your marks: \")\n",
    "print(type(in1))\n",
    "print(f\"Hello my name is {in1} {in2}.\\nI am {age} and i got {marks}\")"
   ]
  },
  {
   "cell_type": "markdown",
   "id": "cd96393a-f9ba-4d68-a555-8491cf19d4f6",
   "metadata": {},
   "source": [
    "### Type Conversion\n",
    "It is a method through which we can convert any Datatype(int, float, string....) into another Datatype(int, float, string....)"
   ]
  },
  {
   "cell_type": "code",
   "execution_count": 43,
   "id": "6d1f09f3-7a8c-437e-b286-d49fbc6139de",
   "metadata": {},
   "outputs": [
    {
     "name": "stdout",
     "output_type": "stream",
     "text": [
      "<class 'float'>\n",
      "7.098\n",
      "<class 'int'>\n",
      "7\n"
     ]
    }
   ],
   "source": [
    "x1 = 7.098\n",
    "\n",
    "print(type(x1))\n",
    "print(x1)\n",
    "x11 = int(x1)\n",
    "print(type(x11))\n",
    "print(x11)"
   ]
  },
  {
   "cell_type": "code",
   "execution_count": 48,
   "id": "9ceaaaba-1f87-4b94-9e3f-f548ceacc11d",
   "metadata": {},
   "outputs": [
    {
     "name": "stdout",
     "output_type": "stream",
     "text": [
      "<class 'str'>\n",
      "25\n",
      "<class 'float'>\n",
      "25.0\n",
      "<class 'int'>\n",
      "25\n"
     ]
    }
   ],
   "source": [
    "x2 = \"25\"\n",
    "\n",
    "print(type(x2))\n",
    "print(x2)\n",
    "x21 = float(x2)\n",
    "print(type(x21))\n",
    "print(x21)\n",
    "x22 = int(x2)\n",
    "print(type(x22))\n",
    "print(x22)"
   ]
  },
  {
   "cell_type": "code",
   "execution_count": null,
   "id": "503cdc30-285f-4d71-b987-daaa2f701a7f",
   "metadata": {},
   "outputs": [],
   "source": []
  }
 ],
 "metadata": {
  "kernelspec": {
   "display_name": "Python 3 (ipykernel)",
   "language": "python",
   "name": "python3"
  },
  "language_info": {
   "codemirror_mode": {
    "name": "ipython",
    "version": 3
   },
   "file_extension": ".py",
   "mimetype": "text/x-python",
   "name": "python",
   "nbconvert_exporter": "python",
   "pygments_lexer": "ipython3",
   "version": "3.12.1"
  }
 },
 "nbformat": 4,
 "nbformat_minor": 5
}
