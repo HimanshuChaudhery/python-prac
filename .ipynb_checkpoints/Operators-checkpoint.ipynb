{
 "cells": [
  {
   "cell_type": "markdown",
   "id": "8adb1547-426c-4de5-82e4-0bc06dea465d",
   "metadata": {},
   "source": [
    "## Operators in Python\n",
    "An operator in a programming language is a symbol that to perform sepcific ``mathematical, relational and logical operations`` to produce final result.\n",
    "- Operands\n",
    "- Operators\n",
    "- Operands + operators = Expression\n",
    "![Operator_in_python](operator-in-python.jpg)"
   ]
  },
  {
   "cell_type": "code",
   "execution_count": 2,
   "id": "b3d13c3b-d286-4ad3-942d-2cbf9277df1a",
   "metadata": {},
   "outputs": [
    {
     "name": "stdout",
     "output_type": "stream",
     "text": [
      "30\n"
     ]
    }
   ],
   "source": [
    "a = 10 # Operands \n",
    "b = 20 # Operands\n",
    "z = a + b # \"+\" is an operator\n",
    "print(z)"
   ]
  },
  {
   "cell_type": "markdown",
   "id": "93041aeb-8679-4c55-a65e-9763c6036dd1",
   "metadata": {},
   "source": [
    "### 1. Arthematic Operators\n",
    "- Addition(+)\n",
    "- Subtraction(-)\n",
    "- Multiplication(*)\n",
    "- Division(/)\n",
    "- modulus(%): It will return remainder \n",
    "- Floor Division(//) : is a mathematical operation that rounds down the result of a division to the nearest integer.\n",
    "- To the power(**)\n",
    "  \n",
    "These operators allow us to perform Athematic Operations in Python"
   ]
  },
  {
   "cell_type": "code",
   "execution_count": 3,
   "id": "ba9e84bd-9bcb-4b32-9904-b2c61025c506",
   "metadata": {},
   "outputs": [],
   "source": [
    "num1 = 10\n",
    "num2 = 20"
   ]
  },
  {
   "cell_type": "code",
   "execution_count": 4,
   "id": "f06f74b5-4c58-494b-9fcc-046eb78d36b3",
   "metadata": {},
   "outputs": [
    {
     "data": {
      "text/plain": [
       "30"
      ]
     },
     "execution_count": 4,
     "metadata": {},
     "output_type": "execute_result"
    }
   ],
   "source": [
    "num1+num2"
   ]
  },
  {
   "cell_type": "code",
   "execution_count": 5,
   "id": "6a918d45-908b-45ff-bda9-e797e7a10341",
   "metadata": {},
   "outputs": [
    {
     "data": {
      "text/plain": [
       "-10"
      ]
     },
     "execution_count": 5,
     "metadata": {},
     "output_type": "execute_result"
    }
   ],
   "source": [
    "num1 - num2"
   ]
  },
  {
   "cell_type": "code",
   "execution_count": 6,
   "id": "75cd09bc-dfc3-4cd4-8581-3e8eaf3ae616",
   "metadata": {},
   "outputs": [
    {
     "data": {
      "text/plain": [
       "200"
      ]
     },
     "execution_count": 6,
     "metadata": {},
     "output_type": "execute_result"
    }
   ],
   "source": [
    "num1*num2"
   ]
  },
  {
   "cell_type": "code",
   "execution_count": 7,
   "id": "fec471f7-3bc9-4a26-9361-b6d71a108350",
   "metadata": {},
   "outputs": [
    {
     "data": {
      "text/plain": [
       "0.5"
      ]
     },
     "execution_count": 7,
     "metadata": {},
     "output_type": "execute_result"
    }
   ],
   "source": [
    "num1/num2"
   ]
  },
  {
   "cell_type": "code",
   "execution_count": 8,
   "id": "8195e690-2c4b-4c06-9eb7-f06796502a1f",
   "metadata": {},
   "outputs": [
    {
     "data": {
      "text/plain": [
       "10"
      ]
     },
     "execution_count": 8,
     "metadata": {},
     "output_type": "execute_result"
    }
   ],
   "source": [
    "num1%num2"
   ]
  },
  {
   "cell_type": "code",
   "execution_count": 10,
   "id": "b4bd2799-5fe2-4ac4-a9d5-e7f2215d272e",
   "metadata": {},
   "outputs": [
    {
     "data": {
      "text/plain": [
       "2"
      ]
     },
     "execution_count": 10,
     "metadata": {},
     "output_type": "execute_result"
    }
   ],
   "source": [
    "num2//num1"
   ]
  },
  {
   "cell_type": "code",
   "execution_count": 14,
   "id": "b46203bd-dc9b-4b7a-b3ef-cc25c0c1bab7",
   "metadata": {},
   "outputs": [
    {
     "data": {
      "text/plain": [
       "144"
      ]
     },
     "execution_count": 14,
     "metadata": {},
     "output_type": "execute_result"
    }
   ],
   "source": [
    "12**2"
   ]
  },
  {
   "cell_type": "markdown",
   "id": "1ce4384a-143f-4c54-97ad-f492ba15d4e5",
   "metadata": {},
   "source": [
    "### String concatenation"
   ]
  },
  {
   "cell_type": "code",
   "execution_count": 18,
   "id": "a29ff000-e719-4ff4-84a1-f0f4951d0e22",
   "metadata": {},
   "outputs": [
    {
     "name": "stdout",
     "output_type": "stream",
     "text": [
      "SethRolance\n"
     ]
    }
   ],
   "source": [
    "n = \"Seth\"\n",
    "l = \"Rolance\"\n",
    "print(n + l) "
   ]
  },
  {
   "cell_type": "code",
   "execution_count": 17,
   "id": "94142dbd-1a2b-4b2d-9e8a-a2b956892044",
   "metadata": {},
   "outputs": [
    {
     "name": "stdout",
     "output_type": "stream",
     "text": [
      "11\n"
     ]
    }
   ],
   "source": [
    "print(\"1\"+\"1\")"
   ]
  },
  {
   "cell_type": "markdown",
   "id": "c347223e-bca6-4804-a12d-7dd0c8902f45",
   "metadata": {},
   "source": [
    "### 2. Comparison Operators\n",
    "Comparison Operators are used for comparing two values with each other.\n",
    "- == (True if equal)\n",
    "- != (True if not Equal)\n",
    "- < (Less than) & > (Greater than)\n",
    "- <= (Less than equal to) >= (Greater than equal to)"
   ]
  },
  {
   "cell_type": "code",
   "execution_count": 20,
   "id": "952f1a44-ef46-4222-8a99-3804ec4f4787",
   "metadata": {},
   "outputs": [
    {
     "name": "stdout",
     "output_type": "stream",
     "text": [
      "False\n",
      "True\n",
      "True False\n",
      "True False\n"
     ]
    }
   ],
   "source": [
    "a1=12\n",
    "b1=13\n",
    "print(a==b)\n",
    "print(a!=b)\n",
    "print(a<b,a>b)\n",
    "print(a<=b,a>=b)"
   ]
  },
  {
   "cell_type": "markdown",
   "id": "771e3dae-ddd0-406b-9780-6b30623a90c0",
   "metadata": {},
   "source": [
    "### 3. Assignment operators\n",
    "Assignment Operators are used for assigning values to a variables\n",
    "- =\n",
    "- -=\n",
    "- +=\n",
    "- /=\n",
    "- *="
   ]
  },
  {
   "cell_type": "code",
   "execution_count": 25,
   "id": "447e1cff-26ac-4414-bd88-e1284c9b00b2",
   "metadata": {},
   "outputs": [
    {
     "name": "stdout",
     "output_type": "stream",
     "text": [
      "35\n",
      "33\n",
      "34\n",
      "17.0\n",
      "34.0\n"
     ]
    }
   ],
   "source": [
    "b1 = 34\n",
    "ans = b1+1\n",
    "print(ans)\n",
    "\n",
    "b1-=1\n",
    "print(b1)\n",
    "\n",
    "b1+=1\n",
    "print(b1)\n",
    "\n",
    "b1/=2\n",
    "print(b1)\n",
    "\n",
    "b1*=2\n",
    "print(b1)"
   ]
  },
  {
   "cell_type": "markdown",
   "id": "7f44b832-e861-4054-b060-9a05dbb9f96b",
   "metadata": {},
   "source": [
    "### 4. Logical Operators in Python\n",
    "These are operators will return boolean values i.e. True or False\n",
    "- && (and): Both needs to true\n",
    "- || (or): One needs to be true\n",
    "- ! (Not)\n",
    "\n",
    "![Logical_Operator_table](Logical-Operators-Table.jpg)"
   ]
  },
  {
   "cell_type": "markdown",
   "id": "d5dea525-e9a8-402d-9463-302e480110c0",
   "metadata": {},
   "source": [
    "### 5. Special Operators\n",
    "- in operator (Membership Operator) : it tells us if the object is part of other object or not.\n",
    "- is operator : it tells us if both the object are at same memory location ?"
   ]
  },
  {
   "cell_type": "code",
   "execution_count": 1,
   "id": "ba97c3f6-0f72-4bcd-bdf7-73305aa9ce34",
   "metadata": {},
   "outputs": [],
   "source": [
    "# in operator\n",
    "name1 = \"Rahul Jain\""
   ]
  },
  {
   "cell_type": "code",
   "execution_count": 4,
   "id": "d1d0478f-da46-498a-a58c-e4fcc9092cc5",
   "metadata": {},
   "outputs": [
    {
     "name": "stdout",
     "output_type": "stream",
     "text": [
      "True\n"
     ]
    }
   ],
   "source": [
    "print(\"R\" in name1)"
   ]
  },
  {
   "cell_type": "code",
   "execution_count": 6,
   "id": "525a0a84-50c2-4854-bd11-8986c7a0d778",
   "metadata": {},
   "outputs": [
    {
     "data": {
      "text/plain": [
       "True"
      ]
     },
     "execution_count": 6,
     "metadata": {},
     "output_type": "execute_result"
    }
   ],
   "source": [
    "\"Rahul\" in name1"
   ]
  },
  {
   "cell_type": "code",
   "execution_count": 7,
   "id": "0fd0c6a7-464c-4064-b3fd-7fe7e6aa8718",
   "metadata": {},
   "outputs": [
    {
     "data": {
      "text/plain": [
       "False"
      ]
     },
     "execution_count": 7,
     "metadata": {},
     "output_type": "execute_result"
    }
   ],
   "source": [
    "\"raja\" in name1"
   ]
  },
  {
   "cell_type": "code",
   "execution_count": 8,
   "id": "d23680a2-0632-40a5-a586-a993b1ca876a",
   "metadata": {},
   "outputs": [
    {
     "name": "stdout",
     "output_type": "stream",
     "text": [
      "140728103746104 140728103746104\n"
     ]
    }
   ],
   "source": [
    "# is operator \n",
    "a = 5\n",
    "b = 5\n",
    "\n",
    "print(id(a), id(b))"
   ]
  },
  {
   "cell_type": "code",
   "execution_count": 9,
   "id": "7fbe0e31-0c33-4b1b-adab-92774e8510d6",
   "metadata": {},
   "outputs": [
    {
     "name": "stdout",
     "output_type": "stream",
     "text": [
      "True\n"
     ]
    }
   ],
   "source": [
    "print(a is b)"
   ]
  },
  {
   "cell_type": "code",
   "execution_count": 10,
   "id": "4e01ba23-dfad-4cc3-adce-5bef1c8c75db",
   "metadata": {},
   "outputs": [
    {
     "name": "stdout",
     "output_type": "stream",
     "text": [
      "140728103747032 140728103747384\n"
     ]
    }
   ],
   "source": [
    "a = 34\n",
    "b = 45\n",
    "\n",
    "print(id(a), id(b))"
   ]
  },
  {
   "cell_type": "code",
   "execution_count": 11,
   "id": "0642b936-c349-4f39-bd95-00716b0237a5",
   "metadata": {},
   "outputs": [
    {
     "name": "stdout",
     "output_type": "stream",
     "text": [
      "False\n"
     ]
    }
   ],
   "source": [
    "print(a is b)"
   ]
  },
  {
   "cell_type": "code",
   "execution_count": null,
   "id": "03011394-fac0-43f3-aedd-09309f0b939b",
   "metadata": {},
   "outputs": [],
   "source": []
  }
 ],
 "metadata": {
  "kernelspec": {
   "display_name": "Python 3 (ipykernel)",
   "language": "python",
   "name": "python3"
  },
  "language_info": {
   "codemirror_mode": {
    "name": "ipython",
    "version": 3
   },
   "file_extension": ".py",
   "mimetype": "text/x-python",
   "name": "python",
   "nbconvert_exporter": "python",
   "pygments_lexer": "ipython3",
   "version": "3.12.1"
  }
 },
 "nbformat": 4,
 "nbformat_minor": 5
}
