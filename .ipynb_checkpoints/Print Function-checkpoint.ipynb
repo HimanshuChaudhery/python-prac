{
 "cells": [
  {
   "cell_type": "markdown",
   "id": "5281d74f-5a46-4e27-a835-26c4889c901e",
   "metadata": {},
   "source": [
    "# 1. Print Function\n",
    "Print function is an inbuilt function in python which is used for printing messages or output."
   ]
  },
  {
   "cell_type": "code",
   "execution_count": 3,
   "id": "80737777-ab04-4fa4-9108-3dec63c60bda",
   "metadata": {},
   "outputs": [
    {
     "name": "stdout",
     "output_type": "stream",
     "text": [
      "Hello My name is Ash I am a pokemon trainer 10 7 346\n"
     ]
    }
   ],
   "source": [
    "print(\"Hello\",\"My name is Ash\",\"I am a pokemon trainer\", 10, 7, 346)"
   ]
  },
  {
   "cell_type": "code",
   "execution_count": 5,
   "id": "c5e59039-ad5f-4639-8ed8-79287406a3a2",
   "metadata": {},
   "outputs": [
    {
     "data": {
      "text/plain": [
       "\u001b[1;31mSignature:\u001b[0m \u001b[0mprint\u001b[0m\u001b[1;33m(\u001b[0m\u001b[1;33m*\u001b[0m\u001b[0margs\u001b[0m\u001b[1;33m,\u001b[0m \u001b[0msep\u001b[0m\u001b[1;33m=\u001b[0m\u001b[1;34m' '\u001b[0m\u001b[1;33m,\u001b[0m \u001b[0mend\u001b[0m\u001b[1;33m=\u001b[0m\u001b[1;34m'\\n'\u001b[0m\u001b[1;33m,\u001b[0m \u001b[0mfile\u001b[0m\u001b[1;33m=\u001b[0m\u001b[1;32mNone\u001b[0m\u001b[1;33m,\u001b[0m \u001b[0mflush\u001b[0m\u001b[1;33m=\u001b[0m\u001b[1;32mFalse\u001b[0m\u001b[1;33m)\u001b[0m\u001b[1;33m\u001b[0m\u001b[1;33m\u001b[0m\u001b[0m\n",
       "\u001b[1;31mDocstring:\u001b[0m\n",
       "Prints the values to a stream, or to sys.stdout by default.\n",
       "\n",
       "sep\n",
       "  string inserted between values, default a space.\n",
       "end\n",
       "  string appended after the last value, default a newline.\n",
       "file\n",
       "  a file-like object (stream); defaults to the current sys.stdout.\n",
       "flush\n",
       "  whether to forcibly flush the stream.\n",
       "\u001b[1;31mType:\u001b[0m      builtin_function_or_method"
      ]
     },
     "metadata": {},
     "output_type": "display_data"
    }
   ],
   "source": [
    "print?"
   ]
  },
  {
   "cell_type": "markdown",
   "id": "b5b11f26-7502-4386-817e-473ad3746a72",
   "metadata": {},
   "source": [
    "### Sperator"
   ]
  },
  {
   "cell_type": "code",
   "execution_count": 8,
   "id": "af3a6ce2-98cc-48f6-a84d-29fe1a5dd452",
   "metadata": {},
   "outputs": [
    {
     "name": "stdout",
     "output_type": "stream",
     "text": [
      "Rohan,Singh,Iron man,23,45,78,9.67\n"
     ]
    }
   ],
   "source": [
    "print(\"Rohan\",\"Singh\",\"Iron man\",23,45,78,9.67,sep=\",\")"
   ]
  },
  {
   "cell_type": "markdown",
   "id": "a422f34a-b1b6-45ea-94c6-c60281fc228a",
   "metadata": {},
   "source": [
    "print(\"Ash\",10,sep=\"->\")\n",
    "print(\"Gary\",11,sep=\"->\")"
   ]
  },
  {
   "cell_type": "code",
   "execution_count": 12,
   "id": "0f953ae8-2d60-426e-8025-583f382db872",
   "metadata": {},
   "outputs": [
    {
     "name": "stdout",
     "output_type": "stream",
     "text": [
      "Rohan\n",
      "Singh\n",
      "Iron man\n",
      "23\n",
      "45\n",
      "78\n",
      "9.67\n"
     ]
    }
   ],
   "source": [
    "print(\"Rohan\",\"Singh\",\"Iron man\",23,45,78,9.67,sep=\",\")"
   ]
  },
  {
   "cell_type": "markdown",
   "id": "cb93c210-ccd6-44a7-b16a-6ab18bb5720f",
   "metadata": {},
   "source": [
    "### Changing the default value of seperator"
   ]
  },
  {
   "cell_type": "code",
   "execution_count": 15,
   "id": "e2100f3f-3e0c-4e03-9a0a-ba954f6f373e",
   "metadata": {},
   "outputs": [
    {
     "name": "stdout",
     "output_type": "stream",
     "text": [
      "Ash\n",
      "10->Gary 11\n"
     ]
    }
   ],
   "source": [
    "print(\"Ash\",10,sep=\"\\n\",end=\"->\")\n",
    "print(\"Gary\",11)"
   ]
  },
  {
   "cell_type": "markdown",
   "id": "b07c33c1-c485-4ec9-b2d8-5cc29ce9644d",
   "metadata": {},
   "source": [
    "# All the methods shown above are inefficient way of writing a print function (DO USE THEM)\n",
    "# ```BEST WAY IS```"
   ]
  },
  {
   "cell_type": "code",
   "execution_count": 18,
   "id": "37142f57-1746-49bc-a5a0-55dd2952ef16",
   "metadata": {},
   "outputs": [
    {
     "name": "stdout",
     "output_type": "stream",
     "text": [
      "My name is Ash ketchum.\n",
      "I am from Pallet town and my favourite pokemon is Pikachu.\n"
     ]
    }
   ],
   "source": [
    "name=\"Ash ketchum\"\n",
    "address=\"Pallet town\"\n",
    "fav=\"Pikachu\"\n",
    "print(f\"My name is {name}.\\nI am from {address} and my favourite pokemon is {fav}.\")"
   ]
  },
  {
   "cell_type": "code",
   "execution_count": null,
   "id": "eeed106b-a1fc-4055-b807-79a525bc4034",
   "metadata": {},
   "outputs": [],
   "source": []
  }
 ],
 "metadata": {
  "kernelspec": {
   "display_name": "Python 3 (ipykernel)",
   "language": "python",
   "name": "python3"
  },
  "language_info": {
   "codemirror_mode": {
    "name": "ipython",
    "version": 3
   },
   "file_extension": ".py",
   "mimetype": "text/x-python",
   "name": "python",
   "nbconvert_exporter": "python",
   "pygments_lexer": "ipython3",
   "version": "3.12.1"
  }
 },
 "nbformat": 4,
 "nbformat_minor": 5
}
