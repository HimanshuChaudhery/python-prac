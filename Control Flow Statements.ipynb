{
 "cells": [
  {
   "cell_type": "markdown",
   "id": "250e2a48-7bc8-406b-b3d3-c212c36a9936",
   "metadata": {},
   "source": [
    "## CONTROL FLOW STATEMENTS"
   ]
  },
  {
   "cell_type": "markdown",
   "id": "aa9d1bff-a684-432d-80b7-38a27e2164b6",
   "metadata": {},
   "source": [
    "### There are some statements that controls the flow of the data or program.\n",
    "\n",
    "### These are of three types\n",
    "1. if\n",
    "2. else\n",
    "3. elif (else if) : it is used when we have multiple conditions\n",
    "\n",
    "Flow chart of Control flow statement\n",
    "![Control_Flow_in_python](conditional.jpg)"
   ]
  },
  {
   "cell_type": "code",
   "execution_count": 9,
   "id": "5dd8328e-7748-4eea-9fb2-ca2f6ed754d3",
   "metadata": {},
   "outputs": [],
   "source": [
    "# Example of If statement\n",
    "a = 10\n",
    "b = 20\n",
    "if(a==b):\n",
    "    print(f\"The values are same\")"
   ]
  },
  {
   "cell_type": "code",
   "execution_count": 10,
   "id": "a8cbca0c-4096-4e1d-86e4-e0c27a1994c4",
   "metadata": {},
   "outputs": [
    {
     "name": "stdout",
     "output_type": "stream",
     "text": [
      "B is greater than A\n"
     ]
    }
   ],
   "source": [
    "# Example of else\n",
    "if(a>b):\n",
    "    print(f\"A is greater than B\")\n",
    "else:\n",
    "    print(f\"B is greater than A\")"
   ]
  },
  {
   "cell_type": "code",
   "execution_count": 12,
   "id": "18c026e4-f3ed-491d-b30e-09780da0ab6c",
   "metadata": {},
   "outputs": [
    {
     "name": "stdout",
     "output_type": "stream",
     "text": [
      "C is equal to D\n"
     ]
    }
   ],
   "source": [
    "# example of elif\n",
    "c=10\n",
    "d=10\n",
    "\n",
    "if c>d:\n",
    "    print(f\"C is greater than D\")\n",
    "elif c==d:\n",
    "    print(f\"C is equal to D\")\n",
    "else:\n",
    "    print(f\"C is less than D\")"
   ]
  },
  {
   "cell_type": "markdown",
   "id": "8c28a259-652e-4ec9-90d5-b6b20fb03c5a",
   "metadata": {},
   "source": [
    "### NESTED IF ELSE"
   ]
  },
  {
   "cell_type": "code",
   "execution_count": 20,
   "id": "68749bd4-79b7-43d7-8493-76fceb602756",
   "metadata": {},
   "outputs": [
    {
     "name": "stdin",
     "output_type": "stream",
     "text": [
      "Enter your age:  19\n"
     ]
    },
    {
     "name": "stdout",
     "output_type": "stream",
     "text": [
      "The person is eligible for Rashan card\n"
     ]
    }
   ],
   "source": [
    "age = int(input(\"Enter your age: \"))\n",
    "if age>18:\n",
    "    if age<=60:\n",
    "        print(f\"The person is eligible for Rashan card\")\n",
    "    else:\n",
    "        print(f\"Not eligible\")\n",
    "else:\n",
    "    print(f\"Eligible for nothing, USELESS!\")"
   ]
  },
  {
   "cell_type": "code",
   "execution_count": null,
   "id": "b63c836e-aa90-4ba9-863f-66873e373e72",
   "metadata": {},
   "outputs": [],
   "source": []
  }
 ],
 "metadata": {
  "kernelspec": {
   "display_name": "Python 3 (ipykernel)",
   "language": "python",
   "name": "python3"
  },
  "language_info": {
   "codemirror_mode": {
    "name": "ipython",
    "version": 3
   },
   "file_extension": ".py",
   "mimetype": "text/x-python",
   "name": "python",
   "nbconvert_exporter": "python",
   "pygments_lexer": "ipython3",
   "version": "3.12.1"
  }
 },
 "nbformat": 4,
 "nbformat_minor": 5
}
