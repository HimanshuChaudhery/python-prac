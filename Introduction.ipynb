{
 "cells": [
  {
   "cell_type": "markdown",
   "id": "bcd893b1-549f-479a-ac00-6009948d3351",
   "metadata": {},
   "source": [
    "## PYTHON Introduction\n",
    "Python is an easy to undertand, general-purpose programmiing language. Its design philosophy emphasises code readability.\n",
    "\n",
    "Developed by ``Guido van Rossum`` in 1993."
   ]
  },
  {
   "cell_type": "markdown",
   "id": "dd518102-a8a5-4ac5-835c-4a54a4cbd14e",
   "metadata": {},
   "source": [
    "### Advantages of Python\n",
    "- Easy to code\n",
    "- Improved productivity\n",
    "- Vast Library support\n",
    "- A lot of Career options\n",
    "- Used almost everywhere."
   ]
  },
  {
   "cell_type": "markdown",
   "id": "c733cd91-f313-4bd8-835b-2b2020faf06b",
   "metadata": {},
   "source": [
    "### How big Companies used Python\n",
    "## Youtube: \n",
    "- Video recommendations\n",
    "- Personalised content\n",
    "- Personalised advertisement"
   ]
  },
  {
   "cell_type": "markdown",
   "id": "cb612e4d-0e53-42ee-97ab-5f794f104c49",
   "metadata": {},
   "source": [
    "### Python can be ued for:\n",
    "- AI and machine learning\n",
    "- Data analytics\n",
    "- Programming Applications\n",
    "- WEB DEVELEOPMENT\n",
    "- Game Development\n"
   ]
  },
  {
   "cell_type": "code",
   "execution_count": null,
   "id": "2ffc06fb-3132-424f-be25-4fb22064067e",
   "metadata": {},
   "outputs": [],
   "source": [
    "f"
   ]
  }
 ],
 "metadata": {
  "kernelspec": {
   "display_name": "Python 3 (ipykernel)",
   "language": "python",
   "name": "python3"
  },
  "language_info": {
   "codemirror_mode": {
    "name": "ipython",
    "version": 3
   },
   "file_extension": ".py",
   "mimetype": "text/x-python",
   "name": "python",
   "nbconvert_exporter": "python",
   "pygments_lexer": "ipython3",
   "version": "3.12.1"
  }
 },
 "nbformat": 4,
 "nbformat_minor": 5
}
